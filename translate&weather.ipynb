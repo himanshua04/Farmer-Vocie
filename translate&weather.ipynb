{
 "cells": [
  {
   "cell_type": "code",
   "execution_count": null,
   "metadata": {},
   "outputs": [],
   "source": [
    "!pip2 install googletrans\n",
    "!pip install --upgrade pip\n",
    "!pip upgrade gTTs\n",
    "!pip3 upgrade gTTs\n",
    "!pip install mtranslate\n",
    "!pip3 install mtranslate\n",
    "!pip install requests\n",
    "!pip3 install requests \n",
    "!pip install goslate\n",
    "!pip3 install goslate"
   ]
  },
  {
   "cell_type": "code",
   "execution_count": null,
   "metadata": {},
   "outputs": [],
   "source": [
    "from mtranslate import translate\n",
    "translate(\"lumière\",\"en\",\"auto\")"
   ]
  },
  {
   "cell_type": "code",
   "execution_count": null,
   "metadata": {},
   "outputs": [],
   "source": [
    "import goslate\n",
    "gs = goslate.Goslate()\n",
    "print(gs.translate('hello world', 'de'))"
   ]
  },
  {
   "cell_type": "code",
   "execution_count": 3,
   "metadata": {},
   "outputs": [
    {
     "name": "stdout",
     "output_type": "stream",
     "text": [
      "Requirement already satisfied: mtranslate in /usr/local/lib/python2.7/dist-packages (1.6)\n",
      "\u001b[33mYou are using pip version 18.0, however version 18.1 is available.\n",
      "You should consider upgrading via the 'pip install --upgrade pip' command.\u001b[0m\n"
     ]
    },
    {
     "data": {
      "text/plain": [
       "'क्या हाल है'"
      ]
     },
     "execution_count": 3,
     "metadata": {},
     "output_type": "execute_result"
    }
   ],
   "source": [
    "!pip install mtranslate\n",
    "from mtranslate import translate\n",
    "translate(\"how are you\",\"hi\",\"auto\")"
   ]
  },
  {
   "cell_type": "code",
   "execution_count": 13,
   "metadata": {},
   "outputs": [
    {
     "name": "stdout",
     "output_type": "stream",
     "text": [
      "{'city': 'rohini', 'temprature': 71.6, 'description': 'haze', 'wind': 3.76, 'country': 'IN'}\n"
     ]
    }
   ],
   "source": [
    "import requests\n",
    "url = 'http://api.openweathermap.org/data/2.5/weather?q={}&units=imperial&appid=a872fa3a239c8c03834478bfd348625e'\n",
    "city= 'rohini'\n",
    "\n",
    "r= requests.get(url.format(city)).json()\n",
    "\n",
    "\n",
    "city_weather = {\n",
    "            'city' : city,\n",
    "            'temprature' : r['main']['temp'],\n",
    "            'description' : r['weather'][0]['description'],\n",
    "            'wind' : r['wind']['speed'],\n",
    "            'country' : r['sys']['country']\n",
    "        }\n",
    "context = {'city_weather' : city_weather}\n",
    "print(city_weather)"
   ]
  },
  {
   "cell_type": "code",
   "execution_count": null,
   "metadata": {},
   "outputs": [],
   "source": []
  }
 ],
 "metadata": {
  "kernelspec": {
   "display_name": "Python 2",
   "language": "python",
   "name": "python2"
  },
  "language_info": {
   "codemirror_mode": {
    "name": "ipython",
    "version": 3
   },
   "file_extension": ".py",
   "mimetype": "text/x-python",
   "name": "python",
   "nbconvert_exporter": "python",
   "pygments_lexer": "ipython3",
   "version": "3.6.6"
  }
 },
 "nbformat": 4,
 "nbformat_minor": 2
}
