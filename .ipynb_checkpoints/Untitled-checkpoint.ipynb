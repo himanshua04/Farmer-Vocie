{
 "cells": [
  {
   "cell_type": "code",
   "execution_count": 4,
   "metadata": {},
   "outputs": [],
   "source": [
    "import pandas as pd\n",
    "import csv\n",
    "import re \n",
    "import nltk\n",
    "import time\n",
    "import win32com.client "
   ]
  },
  {
   "cell_type": "code",
   "execution_count": 5,
   "metadata": {},
   "outputs": [],
   "source": [
    "import numpy as np\n",
    "from gtts import gTTS  \n",
    "import os  \n",
    "import requests\n",
    "import speech_recognition as sr\n",
    "r = sr.Recognizer()"
   ]
  },
  {
   "cell_type": "code",
   "execution_count": 6,
   "metadata": {},
   "outputs": [],
   "source": [
    "from tkinter import *\n",
    "import tkinter as tk\n",
    "from PIL import Image, ImageTk\n",
    "from itertools import count, cycle"
   ]
  },
  {
   "cell_type": "code",
   "execution_count": null,
   "metadata": {},
   "outputs": [],
   "source": []
  },
  {
   "cell_type": "code",
   "execution_count": 7,
   "metadata": {},
   "outputs": [],
   "source": [
    "dataset=pd.read_csv('Kerala/datafile (30).csv')"
   ]
  },
  {
   "cell_type": "code",
   "execution_count": 8,
   "metadata": {},
   "outputs": [],
   "source": [
    "list=[]\n",
    "dataset=pd.DataFrame()\n",
    "for i in range (30,73):\n",
    "    dataset1=pd.read_csv('Kerala/datafile ('+str(i)+').csv',index_col=None)\n",
    "    list.append(dataset1)\n",
    "dataset=pd.concat(list)\n",
    "list=[]\n",
    "for i in range (1,75):\n",
    "    dataset1=pd.read_csv('data set/datafile ('+str(i)+').csv',index_col=None)\n",
    "    list.append(dataset1)\n",
    "dataset=pd.concat(list)\n",
    "list=[]\n",
    "for i in range (1,74):\n",
    "    dataset1=pd.read_csv('data set U.P September/datafile ('+str(i)+').csv',index_col=None)\n",
    "    list.append(dataset1)\n",
    "dataset=pd.concat(list)"
   ]
  },
  {
   "cell_type": "code",
   "execution_count": 9,
   "metadata": {},
   "outputs": [],
   "source": [
    "dataset.loc[dataset.Category.isnull(),'Category']='Others'\n",
    "dataset.loc[dataset.Sector.isnull(),'Sector']='Others'\n",
    "dataset.loc[dataset.Crop.isnull(),'Crop']='Others'\n",
    "dataset.loc[dataset.QueryType.isnull(),'QueryType']='unknown'\n",
    "\n",
    "dataset=dataset.dropna()\n",
    "dataset=dataset.reset_index(drop=True)"
   ]
  },
  {
   "cell_type": "code",
   "execution_count": 10,
   "metadata": {},
   "outputs": [],
   "source": [
    "se={}\n",
    "chance=0"
   ]
  },
  {
   "cell_type": "code",
   "execution_count": 11,
   "metadata": {},
   "outputs": [],
   "source": [
    "from nltk.corpus import stopwords \n",
    "from nltk.tokenize import word_tokenize "
   ]
  },
  {
   "cell_type": "code",
   "execution_count": 12,
   "metadata": {},
   "outputs": [],
   "source": [
    "dataframe=pd.DataFrame(dataset)\n",
    "X=np.array(dataframe['QueryText'])\n",
    "corpus = []\n",
    "for i in range(0,len(X)):\n",
    "    review = re.sub(r'\\W',' ',str(X[i]))\n",
    "    review = review.lower()\n",
    "    review = re.sub(r'\\s+[a-z]\\s+',' ',review)\n",
    "    review = re.sub(r'^[a-z]\\s+',' ',review)\n",
    "    review = re.sub(r'\\s+',' ',review)\n",
    "    corpus.append(review)\n"
   ]
  },
  {
   "cell_type": "code",
   "execution_count": 13,
   "metadata": {},
   "outputs": [],
   "source": [
    "y=np.array(dataset['KCCAns'])\n",
    "ans = []\n",
    "for i in range(0,len(y)):\n",
    "    review = re.sub(r'\\W',' ',str(y[i]))\n",
    "    review = review.lower()\n",
    "    review = re.sub(r'\\s+[a-z]\\s+',' ',review)\n",
    "    review = re.sub(r'^[a-z]\\s+',' ',review)\n",
    "    review = re.sub(r'\\s+',' ',review)\n",
    "    ans.append(review)"
   ]
  },
  {
   "cell_type": "code",
   "execution_count": 14,
   "metadata": {},
   "outputs": [],
   "source": [
    "sentHash = dict() \n",
    "for s in range(1, len(corpus)+1): \n",
    "    sentHash[s] = set(corpus[s-1].split()) \n"
   ]
  },
  {
   "cell_type": "code",
   "execution_count": 15,
   "metadata": {},
   "outputs": [],
   "source": [
    "\n",
    "def getRes(ph): \n",
    "    \n",
    "        \n",
    "    \n",
    "    wordList = ph.split() \n",
    "    res = [] \n",
    "    ma=0\n",
    "    index=-1\n",
    "        \n",
    "       \n",
    "        \n",
    "    for s in range(1, len(sentHash)+1): \n",
    "        \n",
    "        temp=0\n",
    "            \n",
    "        for w in wordList: \n",
    "            if w in sentHash[s]: \n",
    "                temp += 1\n",
    "\n",
    "            \n",
    "        if(ma<temp):\n",
    "            ma=temp\n",
    "            index=s\n",
    "    if(index == -1): \n",
    "        return(\"NONE\") \n",
    "    else: \n",
    "        return(ans[index]) "
   ]
  },
  {
   "cell_type": "code",
   "execution_count": 39,
   "metadata": {},
   "outputs": [],
   "source": [
    " \n",
    "def main():\n",
    "    chance=0\n",
    "    ans=\"hello smart voice chat me apka swagat hai\"\n",
    "    agent(ans)\n",
    "    \n",
    "    \n",
    "    while True:\n",
    "        if(chance>2):\n",
    "            ans=\"contact the number 7235090578\"\n",
    "            agent(ans)\n",
    "            break\n",
    "        \n",
    "        q=0\n",
    "        ph = [\"\"] \n",
    "        ph=human()\n",
    "        for word in ph.split(\" \"):\n",
    "            if(word=='climate'or word=='jalavaayu' or word=='mausam' or word=='temperature' or word=='taapamaan'):\n",
    "                ans=climate()\n",
    "                q=1 \n",
    "                chance=0\n",
    "\n",
    "\n",
    "        \n",
    "        if(ph=='thank you' or ph==\"bye\"):\n",
    "            agent(\"aapka din shubh ho bye\")\n",
    "            \n",
    "            \n",
    "            break\n",
    "        if(q!=1):\n",
    "            ans=getRes(ph)\n",
    "            \n",
    "        if (ans==\"NONE\"):\n",
    "            chance+=1\n",
    "            text=\"Maaf kijiye ga Maine suna nahi\"\n",
    "            agent(text)\n",
    "            chance+=1\n",
    "        else:\n",
    "            chance=0\n",
    "            agent(ans)\n",
    "        \n",
    "        \n",
    "        \n",
    "        \n",
    "\n"
   ]
  },
  {
   "cell_type": "code",
   "execution_count": 27,
   "metadata": {},
   "outputs": [],
   "source": [
    "def human():\n",
    "    text=[\"\"]\n",
    "    text=input()\n",
    "    text=text.lower()\n",
    "    #print(text)\n",
    "    return (text)"
   ]
  },
  {
   "cell_type": "code",
   "execution_count": 28,
   "metadata": {},
   "outputs": [],
   "source": [
    "def climate():\n",
    "    url = 'http://api.openweathermap.org/data/2.5/weather?q={}&units=imperial&appid=a872fa3a239c8c03834478bfd348625e'\n",
    "    city= ''\n",
    "    agent(\"of which state do you want to know\")\n",
    "    city=input()\n",
    "\n",
    "    r= requests.get(url.format(city)).json()\n",
    "\n",
    "\n",
    "    city_weather = str(\"city temperature is \"+str(r['main']['temp'])+\" description is \"+str(r['weather'][0]['description']))\n",
    "    return(city_weather)"
   ]
  },
  {
   "cell_type": "code",
   "execution_count": 29,
   "metadata": {},
   "outputs": [],
   "source": [
    "def agent(mytext):\n",
    "    speaker = win32com.client.Dispatch(\"SAPI.SpVoice\") \n",
    "    speaker.Speak(mytext) \n",
    "    print(\"RESPONSE:\"+mytext)\n",
    "    \"\"\"\n",
    "    print(mytext)\n",
    "    language='en'\n",
    "    myobj = gTTS(text=mytext, lang=language, slow=False) \n",
    "    myobj.save(\"welcome.mp3\") \n",
    "    os.system(\"welcome.mp3\")\n",
    "    time.sleep(2)\n",
    "    \"\"\"\n",
    "    "
   ]
  },
  {
   "cell_type": "code",
   "execution_count": null,
   "metadata": {},
   "outputs": [],
   "source": []
  },
  {
   "cell_type": "markdown",
   "metadata": {},
   "source": [
    "\"\"\"def human():\n",
    "    with sr.Microphone() as source:\n",
    "        print(\"Say something!\")\n",
    "        audio = r.listen(source)\n",
    "        \n",
    "    try:\n",
    "        text=(r.recognize_google(audio))\n",
    "        \n",
    "    except sr.UnknownValueError:\n",
    "        agent(\"Maaf kijiyega Maine suna nahi\")\n",
    "    except sr.RequestError as e:\n",
    "        agent(\"aapki call nahi mil pa rahi hai\")\n",
    "    \"\"\""
   ]
  },
  {
   "cell_type": "code",
   "execution_count": null,
   "metadata": {},
   "outputs": [
    {
     "name": "stdout",
     "output_type": "stream",
     "text": [
      "RESPONSE:hello smart voice chat me apka swagat hai\n",
      "insect problem in paddy\n",
      "RESPONSE:kisan bhai aap cartap hydrochloride 50 sp 400 gram acre 200 liter pani me sprey kare \n",
      "insect probelm in paddy\n",
      "RESPONSE:cartaap hydrocloride 50 sp 450 gram acre 180 liter pani me ghol banakar chidcaav kare\n"
     ]
    }
   ],
   "source": [
    "main()"
   ]
  },
  {
   "cell_type": "code",
   "execution_count": null,
   "metadata": {},
   "outputs": [],
   "source": [
    "insect problumes in paddy crops\n",
    "soil testing information?\n",
    "temperature\n",
    "dhan ki fasal ki pattiya pilee par rahi hai ...?\n",
    "Dhaan ki fasal me kalapan hai ?\n",
    "insect control in paddy ..?\n",
    "badam ka phul gir jata hai ?\n",
    "TELL ME CONTECT NUMBER OF IARI PUSA DELHI ? \n",
    "wheather\n",
    "varieties of mustard ?\n",
    "\n"
   ]
  },
  {
   "cell_type": "code",
   "execution_count": null,
   "metadata": {},
   "outputs": [],
   "source": []
  },
  {
   "cell_type": "code",
   "execution_count": 1,
   "metadata": {},
   "outputs": [],
   "source": [
    "import win32com.client \n",
    "\n"
   ]
  },
  {
   "cell_type": "code",
   "execution_count": null,
   "metadata": {},
   "outputs": [
    {
     "name": "stdout",
     "output_type": "stream",
     "text": [
      "Enter the word you want to speak it out by computer\n",
      "hello brother\n",
      "Enter the word you want to speak it out by computer\n"
     ]
    }
   ],
   "source": [
    "speaker = win32com.client.Dispatch(\"SAPI.SpVoice\") \n",
    "  \n",
    "while 1: \n",
    "    print(\"Enter the word you want to speak it out by computer\") \n",
    "    s = input() \n",
    "    speaker.Speak(s) "
   ]
  },
  {
   "cell_type": "code",
   "execution_count": 3,
   "metadata": {},
   "outputs": [
    {
     "name": "stdout",
     "output_type": "stream",
     "text": [
      "Enter the word you want to speak it out by computer\n"
     ]
    },
    {
     "data": {
      "text/plain": [
       "1"
      ]
     },
     "execution_count": 3,
     "metadata": {},
     "output_type": "execute_result"
    }
   ],
   "source": [
    "speaker = win32com.client.Dispatch(\"SAPI.SpVoice\") \n",
    "   \n",
    "print(\"Enter the word you want to speak it out by computer\") \n",
    "s = \"hello brother\"\n",
    "speaker.Speak(s) "
   ]
  },
  {
   "cell_type": "code",
   "execution_count": null,
   "metadata": {},
   "outputs": [],
   "source": []
  }
 ],
 "metadata": {
  "kernelspec": {
   "display_name": "Python 3",
   "language": "python",
   "name": "python3"
  },
  "language_info": {
   "codemirror_mode": {
    "name": "ipython",
    "version": 3
   },
   "file_extension": ".py",
   "mimetype": "text/x-python",
   "name": "python",
   "nbconvert_exporter": "python",
   "pygments_lexer": "ipython3",
   "version": "3.6.5"
  }
 },
 "nbformat": 4,
 "nbformat_minor": 2
}
